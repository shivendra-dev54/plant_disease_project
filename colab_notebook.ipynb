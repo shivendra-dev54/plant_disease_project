{
 "cells": [
  {
   "cell_type": "code",
   "execution_count": 1,
   "metadata": {
    "colab": {
     "base_uri": "https://localhost:8080/",
     "height": 74
    },
    "executionInfo": {
     "elapsed": 7865,
     "status": "ok",
     "timestamp": 1750608453218,
     "user": {
      "displayName": "Shivendra Devadhe",
      "userId": "17542011610081090060"
     },
     "user_tz": -330
    },
    "id": "X-C0BJmmXu_G",
    "outputId": "c6b24c2f-a5a0-4f0a-d633-1e2500e61981"
   },
   "outputs": [
    {
     "data": {
      "text/html": [
       "\n",
       "     <input type=\"file\" id=\"files-8f5568de-2a97-4085-9cb2-e35f256ca806\" name=\"files[]\" multiple disabled\n",
       "        style=\"border:none\" />\n",
       "     <output id=\"result-8f5568de-2a97-4085-9cb2-e35f256ca806\">\n",
       "      Upload widget is only available when the cell has been executed in the\n",
       "      current browser session. Please rerun this cell to enable.\n",
       "      </output>\n",
       "      <script>// Copyright 2017 Google LLC\n",
       "//\n",
       "// Licensed under the Apache License, Version 2.0 (the \"License\");\n",
       "// you may not use this file except in compliance with the License.\n",
       "// You may obtain a copy of the License at\n",
       "//\n",
       "//      http://www.apache.org/licenses/LICENSE-2.0\n",
       "//\n",
       "// Unless required by applicable law or agreed to in writing, software\n",
       "// distributed under the License is distributed on an \"AS IS\" BASIS,\n",
       "// WITHOUT WARRANTIES OR CONDITIONS OF ANY KIND, either express or implied.\n",
       "// See the License for the specific language governing permissions and\n",
       "// limitations under the License.\n",
       "\n",
       "/**\n",
       " * @fileoverview Helpers for google.colab Python module.\n",
       " */\n",
       "(function(scope) {\n",
       "function span(text, styleAttributes = {}) {\n",
       "  const element = document.createElement('span');\n",
       "  element.textContent = text;\n",
       "  for (const key of Object.keys(styleAttributes)) {\n",
       "    element.style[key] = styleAttributes[key];\n",
       "  }\n",
       "  return element;\n",
       "}\n",
       "\n",
       "// Max number of bytes which will be uploaded at a time.\n",
       "const MAX_PAYLOAD_SIZE = 100 * 1024;\n",
       "\n",
       "function _uploadFiles(inputId, outputId) {\n",
       "  const steps = uploadFilesStep(inputId, outputId);\n",
       "  const outputElement = document.getElementById(outputId);\n",
       "  // Cache steps on the outputElement to make it available for the next call\n",
       "  // to uploadFilesContinue from Python.\n",
       "  outputElement.steps = steps;\n",
       "\n",
       "  return _uploadFilesContinue(outputId);\n",
       "}\n",
       "\n",
       "// This is roughly an async generator (not supported in the browser yet),\n",
       "// where there are multiple asynchronous steps and the Python side is going\n",
       "// to poll for completion of each step.\n",
       "// This uses a Promise to block the python side on completion of each step,\n",
       "// then passes the result of the previous step as the input to the next step.\n",
       "function _uploadFilesContinue(outputId) {\n",
       "  const outputElement = document.getElementById(outputId);\n",
       "  const steps = outputElement.steps;\n",
       "\n",
       "  const next = steps.next(outputElement.lastPromiseValue);\n",
       "  return Promise.resolve(next.value.promise).then((value) => {\n",
       "    // Cache the last promise value to make it available to the next\n",
       "    // step of the generator.\n",
       "    outputElement.lastPromiseValue = value;\n",
       "    return next.value.response;\n",
       "  });\n",
       "}\n",
       "\n",
       "/**\n",
       " * Generator function which is called between each async step of the upload\n",
       " * process.\n",
       " * @param {string} inputId Element ID of the input file picker element.\n",
       " * @param {string} outputId Element ID of the output display.\n",
       " * @return {!Iterable<!Object>} Iterable of next steps.\n",
       " */\n",
       "function* uploadFilesStep(inputId, outputId) {\n",
       "  const inputElement = document.getElementById(inputId);\n",
       "  inputElement.disabled = false;\n",
       "\n",
       "  const outputElement = document.getElementById(outputId);\n",
       "  outputElement.innerHTML = '';\n",
       "\n",
       "  const pickedPromise = new Promise((resolve) => {\n",
       "    inputElement.addEventListener('change', (e) => {\n",
       "      resolve(e.target.files);\n",
       "    });\n",
       "  });\n",
       "\n",
       "  const cancel = document.createElement('button');\n",
       "  inputElement.parentElement.appendChild(cancel);\n",
       "  cancel.textContent = 'Cancel upload';\n",
       "  const cancelPromise = new Promise((resolve) => {\n",
       "    cancel.onclick = () => {\n",
       "      resolve(null);\n",
       "    };\n",
       "  });\n",
       "\n",
       "  // Wait for the user to pick the files.\n",
       "  const files = yield {\n",
       "    promise: Promise.race([pickedPromise, cancelPromise]),\n",
       "    response: {\n",
       "      action: 'starting',\n",
       "    }\n",
       "  };\n",
       "\n",
       "  cancel.remove();\n",
       "\n",
       "  // Disable the input element since further picks are not allowed.\n",
       "  inputElement.disabled = true;\n",
       "\n",
       "  if (!files) {\n",
       "    return {\n",
       "      response: {\n",
       "        action: 'complete',\n",
       "      }\n",
       "    };\n",
       "  }\n",
       "\n",
       "  for (const file of files) {\n",
       "    const li = document.createElement('li');\n",
       "    li.append(span(file.name, {fontWeight: 'bold'}));\n",
       "    li.append(span(\n",
       "        `(${file.type || 'n/a'}) - ${file.size} bytes, ` +\n",
       "        `last modified: ${\n",
       "            file.lastModifiedDate ? file.lastModifiedDate.toLocaleDateString() :\n",
       "                                    'n/a'} - `));\n",
       "    const percent = span('0% done');\n",
       "    li.appendChild(percent);\n",
       "\n",
       "    outputElement.appendChild(li);\n",
       "\n",
       "    const fileDataPromise = new Promise((resolve) => {\n",
       "      const reader = new FileReader();\n",
       "      reader.onload = (e) => {\n",
       "        resolve(e.target.result);\n",
       "      };\n",
       "      reader.readAsArrayBuffer(file);\n",
       "    });\n",
       "    // Wait for the data to be ready.\n",
       "    let fileData = yield {\n",
       "      promise: fileDataPromise,\n",
       "      response: {\n",
       "        action: 'continue',\n",
       "      }\n",
       "    };\n",
       "\n",
       "    // Use a chunked sending to avoid message size limits. See b/62115660.\n",
       "    let position = 0;\n",
       "    do {\n",
       "      const length = Math.min(fileData.byteLength - position, MAX_PAYLOAD_SIZE);\n",
       "      const chunk = new Uint8Array(fileData, position, length);\n",
       "      position += length;\n",
       "\n",
       "      const base64 = btoa(String.fromCharCode.apply(null, chunk));\n",
       "      yield {\n",
       "        response: {\n",
       "          action: 'append',\n",
       "          file: file.name,\n",
       "          data: base64,\n",
       "        },\n",
       "      };\n",
       "\n",
       "      let percentDone = fileData.byteLength === 0 ?\n",
       "          100 :\n",
       "          Math.round((position / fileData.byteLength) * 100);\n",
       "      percent.textContent = `${percentDone}% done`;\n",
       "\n",
       "    } while (position < fileData.byteLength);\n",
       "  }\n",
       "\n",
       "  // All done.\n",
       "  yield {\n",
       "    response: {\n",
       "      action: 'complete',\n",
       "    }\n",
       "  };\n",
       "}\n",
       "\n",
       "scope.google = scope.google || {};\n",
       "scope.google.colab = scope.google.colab || {};\n",
       "scope.google.colab._files = {\n",
       "  _uploadFiles,\n",
       "  _uploadFilesContinue,\n",
       "};\n",
       "})(self);\n",
       "</script> "
      ],
      "text/plain": [
       "<IPython.core.display.HTML object>"
      ]
     },
     "metadata": {},
     "output_type": "display_data"
    },
    {
     "name": "stdout",
     "output_type": "stream",
     "text": [
      "Saving kaggle.json to kaggle.json\n"
     ]
    }
   ],
   "source": [
    "# Upload your kaggle.json first\n",
    "from google.colab import files\n",
    "files.upload()  # Upload kaggle.json here\n",
    "\n",
    "# Set up Kaggle API\n",
    "!mkdir -p ~/.kaggle\n",
    "!cp kaggle.json ~/.kaggle/\n",
    "!chmod 600 ~/.kaggle/kaggle.json\n"
   ]
  },
  {
   "cell_type": "code",
   "execution_count": 2,
   "metadata": {
    "colab": {
     "base_uri": "https://localhost:8080/"
    },
    "executionInfo": {
     "elapsed": 45444,
     "status": "ok",
     "timestamp": 1750608502867,
     "user": {
      "displayName": "Shivendra Devadhe",
      "userId": "17542011610081090060"
     },
     "user_tz": -330
    },
    "id": "zzyRjvvdXvDv",
    "outputId": "e8857c23-b41d-40fb-a632-d79fe43d6e2e"
   },
   "outputs": [
    {
     "name": "stdout",
     "output_type": "stream",
     "text": [
      "Dataset URL: https://www.kaggle.com/datasets/emmarex/plantdisease\n",
      "License(s): unknown\n",
      "Downloading plantdisease.zip to /content\n",
      " 94% 615M/658M [00:03<00:00, 235MB/s]\n",
      "100% 658M/658M [00:03<00:00, 177MB/s]\n",
      "PlantVillage\n"
     ]
    }
   ],
   "source": [
    "# Download and unzip PlantVillage dataset\n",
    "!kaggle datasets download -d emmarex/plantdisease\n",
    "!unzip -q plantdisease.zip -d data/\n",
    "\n",
    "# Check structure\n",
    "!ls data/plantvillage\n"
   ]
  },
  {
   "cell_type": "code",
   "execution_count": 3,
   "metadata": {
    "executionInfo": {
     "elapsed": 9442,
     "status": "ok",
     "timestamp": 1750608519529,
     "user": {
      "displayName": "Shivendra Devadhe",
      "userId": "17542011610081090060"
     },
     "user_tz": -330
    },
    "id": "jBahJ4OHXvJF"
   },
   "outputs": [],
   "source": [
    "import os\n",
    "import torch\n",
    "import torchvision\n",
    "import torch.nn as nn\n",
    "from torchvision import datasets, transforms, models\n",
    "from torch.utils.data import DataLoader\n",
    "from tqdm import tqdm\n"
   ]
  },
  {
   "cell_type": "code",
   "execution_count": 4,
   "metadata": {
    "executionInfo": {
     "elapsed": 4,
     "status": "ok",
     "timestamp": 1750608523296,
     "user": {
      "displayName": "Shivendra Devadhe",
      "userId": "17542011610081090060"
     },
     "user_tz": -330
    },
    "id": "1mhF22uBYU9U"
   },
   "outputs": [],
   "source": [
    "# Hyperparameters\n",
    "BATCH_SIZE = 32\n",
    "NUM_EPOCHS = 10\n",
    "LEARNING_RATE = 1e-4\n",
    "FREEZE_FEATURES = True\n",
    "MODEL_DIR = \"/content/drive/MyDrive/ML\"\n",
    "MODEL_NAME = \"resnet50_plant_disease.pth\"\n",
    "\n",
    "# Data paths\n",
    "train_dir = \"data/plantvillage/PlantVillage/Train\"\n",
    "val_dir = \"data/plantvillage/PlantVillage/Validation\"\n",
    "\n",
    "# Device setup\n",
    "device = torch.device(\"cuda\" if torch.cuda.is_available() else \"cpu\")\n"
   ]
  },
  {
   "cell_type": "code",
   "execution_count": null,
   "metadata": {
    "executionInfo": {
     "elapsed": 6,
     "status": "ok",
     "timestamp": 1750608686799,
     "user": {
      "displayName": "Shivendra Devadhe",
      "userId": "17542011610081090060"
     },
     "user_tz": -330
    },
    "id": "cAPc3ImFYVBL"
   },
   "outputs": [],
   "source": [
    "from torchvision import datasets, transforms\n",
    "from torch.utils.data import DataLoader, random_split\n",
    "\n",
    "def create_dataloaders(data_dir, batch_size=32, val_split=0.2):\n",
    "    transform = transforms.Compose([\n",
    "        transforms.Resize((224, 224)),\n",
    "        transforms.ToTensor(),\n",
    "        transforms.Normalize([0.485, 0.456, 0.406],\n",
    "                             [0.229, 0.224, 0.225])\n",
    "    ]) \n",
    "\n",
    "    # Load full dataset\n",
    "    full_dataset = datasets.ImageFolder(root=data_dir, transform=transform)\n",
    "    class_names = full_dataset.classes\n",
    "    total_size = len(full_dataset)\n",
    "    val_size = int(val_split * total_size)\n",
    "    train_size = total_size - val_size\n",
    "\n",
    "    train_dataset, val_dataset = random_split(full_dataset, [train_size, val_size])\n",
    "\n",
    "    train_loader = DataLoader(train_dataset, batch_size=batch_size, shuffle=True, num_workers=2, pin_memory=True)\n",
    "    val_loader = DataLoader(val_dataset, batch_size=batch_size, shuffle=False, num_workers=2, pin_memory=True)\n",
    "\n",
    "    return train_loader, val_loader, len(class_names)\n"
   ]
  },
  {
   "cell_type": "code",
   "execution_count": 7,
   "metadata": {
    "executionInfo": {
     "elapsed": 61,
     "status": "ok",
     "timestamp": 1750608716656,
     "user": {
      "displayName": "Shivendra Devadhe",
      "userId": "17542011610081090060"
     },
     "user_tz": -330
    },
    "id": "epZJ08MZaQlQ"
   },
   "outputs": [],
   "source": [
    "data_dir = \"data/plantvillage/PlantVillage\"\n",
    "train_loader, val_loader, num_classes = create_dataloaders(data_dir, batch_size=BATCH_SIZE)"
   ]
  },
  {
   "cell_type": "code",
   "execution_count": 8,
   "metadata": {
    "colab": {
     "base_uri": "https://localhost:8080/"
    },
    "executionInfo": {
     "elapsed": 1245,
     "status": "ok",
     "timestamp": 1750608726257,
     "user": {
      "displayName": "Shivendra Devadhe",
      "userId": "17542011610081090060"
     },
     "user_tz": -330
    },
    "id": "51SlzWYuYVE6",
    "outputId": "3241e42a-0ccd-4546-9bff-7e765b181409"
   },
   "outputs": [
    {
     "name": "stderr",
     "output_type": "stream",
     "text": [
      "/usr/local/lib/python3.11/dist-packages/torchvision/models/_utils.py:208: UserWarning: The parameter 'pretrained' is deprecated since 0.13 and may be removed in the future, please use 'weights' instead.\n",
      "  warnings.warn(\n",
      "/usr/local/lib/python3.11/dist-packages/torchvision/models/_utils.py:223: UserWarning: Arguments other than a weight enum or `None` for 'weights' are deprecated since 0.13 and may be removed in the future. The current behavior is equivalent to passing `weights=ResNet50_Weights.IMAGENET1K_V1`. You can also use `weights=ResNet50_Weights.DEFAULT` to get the most up-to-date weights.\n",
      "  warnings.warn(msg)\n",
      "Downloading: \"https://download.pytorch.org/models/resnet50-0676ba61.pth\" to /root/.cache/torch/hub/checkpoints/resnet50-0676ba61.pth\n",
      "100%|██████████| 97.8M/97.8M [00:00<00:00, 194MB/s]\n"
     ]
    }
   ],
   "source": [
    "def create_model(num_classes, freeze_features=True):\n",
    "    model = models.resnet50(pretrained=True)\n",
    "    if freeze_features:\n",
    "        for param in model.parameters():\n",
    "            param.requires_grad = False\n",
    "    model.fc = nn.Linear(model.fc.in_features, num_classes)\n",
    "    return model.to(device)\n",
    "\n",
    "model = create_model(num_classes, FREEZE_FEATURES)\n"
   ]
  },
  {
   "cell_type": "code",
   "execution_count": 9,
   "metadata": {
    "executionInfo": {
     "elapsed": 4,
     "status": "ok",
     "timestamp": 1750608730602,
     "user": {
      "displayName": "Shivendra Devadhe",
      "userId": "17542011610081090060"
     },
     "user_tz": -330
    },
    "id": "PWlmLEFKYVIr"
   },
   "outputs": [],
   "source": [
    "def calculate_accuracy(y_pred, y_true):\n",
    "    correct = (y_pred.argmax(dim=1) == y_true).sum().item()\n",
    "    return correct / y_true.size(0)\n",
    "\n",
    "def save_model(model, save_dir, filename):\n",
    "    os.makedirs(save_dir, exist_ok=True)\n",
    "    save_path = os.path.join(save_dir, filename)\n",
    "    torch.save(model.state_dict(), save_path)\n",
    "    print(f\"✅ Model saved at: {save_path}\")\n"
   ]
  },
  {
   "cell_type": "code",
   "execution_count": 10,
   "metadata": {
    "executionInfo": {
     "elapsed": 11,
     "status": "ok",
     "timestamp": 1750608734119,
     "user": {
      "displayName": "Shivendra Devadhe",
      "userId": "17542011610081090060"
     },
     "user_tz": -330
    },
    "id": "XUxs9xj3YVMD"
   },
   "outputs": [],
   "source": [
    "def train_one_epoch(model, dataloader, loss_fn, optimizer, device):\n",
    "    model.train()\n",
    "    running_loss = 0.0\n",
    "\n",
    "    for inputs, targets in tqdm(dataloader, desc=\"Training\"):\n",
    "        inputs, targets = inputs.to(device), targets.to(device)\n",
    "        outputs = model(inputs)\n",
    "        loss = loss_fn(outputs, targets)\n",
    "\n",
    "        optimizer.zero_grad()\n",
    "        loss.backward()\n",
    "        optimizer.step()\n",
    "\n",
    "        running_loss += loss.item()\n",
    "\n",
    "    return running_loss / len(dataloader)\n",
    "\n",
    "def eval_model(model, dataloader, loss_fn, device):\n",
    "    model.eval()\n",
    "    total_loss = 0.0\n",
    "    total_acc = 0.0\n",
    "    total_samples = 0\n",
    "\n",
    "    with torch.no_grad():\n",
    "        for inputs, targets in tqdm(dataloader, desc=\"Evaluating\"):\n",
    "            inputs, targets = inputs.to(device), targets.to(device)\n",
    "            outputs = model(inputs)\n",
    "            loss = loss_fn(outputs, targets)\n",
    "            acc = calculate_accuracy(outputs, targets)\n",
    "\n",
    "            total_loss += loss.item()\n",
    "            total_acc += acc * inputs.size(0)\n",
    "            total_samples += inputs.size(0)\n",
    "\n",
    "    return total_loss / len(dataloader), total_acc / total_samples\n"
   ]
  },
  {
   "cell_type": "code",
   "execution_count": 11,
   "metadata": {
    "colab": {
     "base_uri": "https://localhost:8080/"
    },
    "executionInfo": {
     "elapsed": 760062,
     "status": "ok",
     "timestamp": 1750609500258,
     "user": {
      "displayName": "Shivendra Devadhe",
      "userId": "17542011610081090060"
     },
     "user_tz": -330
    },
    "id": "FIKiiYdKYfHI",
    "outputId": "50195b1d-afbf-4d80-ed05-7a086fe708d6"
   },
   "outputs": [
    {
     "name": "stdout",
     "output_type": "stream",
     "text": [
      "\n",
      "🔁 Epoch 1/10\n"
     ]
    },
    {
     "name": "stderr",
     "output_type": "stream",
     "text": [
      "Training: 100%|██████████| 516/516 [01:01<00:00,  8.41it/s]\n",
      "Evaluating: 100%|██████████| 129/129 [00:15<00:00,  8.10it/s]\n"
     ]
    },
    {
     "name": "stdout",
     "output_type": "stream",
     "text": [
      "📊 Train Loss: 1.6594 | Val Loss: 1.0414 | Val Acc: 78.41%\n",
      "\n",
      "🔁 Epoch 2/10\n"
     ]
    },
    {
     "name": "stderr",
     "output_type": "stream",
     "text": [
      "Training: 100%|██████████| 516/516 [01:01<00:00,  8.43it/s]\n",
      "Evaluating: 100%|██████████| 129/129 [00:14<00:00,  8.87it/s]\n"
     ]
    },
    {
     "name": "stdout",
     "output_type": "stream",
     "text": [
      "📊 Train Loss: 0.9081 | Val Loss: 0.6961 | Val Acc: 85.39%\n",
      "\n",
      "🔁 Epoch 3/10\n"
     ]
    },
    {
     "name": "stderr",
     "output_type": "stream",
     "text": [
      "Training: 100%|██████████| 516/516 [01:00<00:00,  8.48it/s]\n",
      "Evaluating: 100%|██████████| 129/129 [00:14<00:00,  8.78it/s]\n"
     ]
    },
    {
     "name": "stdout",
     "output_type": "stream",
     "text": [
      "📊 Train Loss: 0.6737 | Val Loss: 0.5456 | Val Acc: 87.01%\n",
      "\n",
      "🔁 Epoch 4/10\n"
     ]
    },
    {
     "name": "stderr",
     "output_type": "stream",
     "text": [
      "Training: 100%|██████████| 516/516 [01:02<00:00,  8.32it/s]\n",
      "Evaluating: 100%|██████████| 129/129 [00:14<00:00,  8.75it/s]\n"
     ]
    },
    {
     "name": "stdout",
     "output_type": "stream",
     "text": [
      "📊 Train Loss: 0.5627 | Val Loss: 0.4699 | Val Acc: 88.81%\n",
      "\n",
      "🔁 Epoch 5/10\n"
     ]
    },
    {
     "name": "stderr",
     "output_type": "stream",
     "text": [
      "Training: 100%|██████████| 516/516 [01:00<00:00,  8.48it/s]\n",
      "Evaluating: 100%|██████████| 129/129 [00:14<00:00,  8.66it/s]\n"
     ]
    },
    {
     "name": "stdout",
     "output_type": "stream",
     "text": [
      "📊 Train Loss: 0.4910 | Val Loss: 0.4156 | Val Acc: 89.85%\n",
      "\n",
      "🔁 Epoch 6/10\n"
     ]
    },
    {
     "name": "stderr",
     "output_type": "stream",
     "text": [
      "Training: 100%|██████████| 516/516 [01:01<00:00,  8.45it/s]\n",
      "Evaluating: 100%|██████████| 129/129 [00:14<00:00,  8.71it/s]\n"
     ]
    },
    {
     "name": "stdout",
     "output_type": "stream",
     "text": [
      "📊 Train Loss: 0.4425 | Val Loss: 0.3790 | Val Acc: 90.62%\n",
      "\n",
      "🔁 Epoch 7/10\n"
     ]
    },
    {
     "name": "stderr",
     "output_type": "stream",
     "text": [
      "Training: 100%|██████████| 516/516 [01:00<00:00,  8.48it/s]\n",
      "Evaluating: 100%|██████████| 129/129 [00:14<00:00,  8.81it/s]\n"
     ]
    },
    {
     "name": "stdout",
     "output_type": "stream",
     "text": [
      "📊 Train Loss: 0.4072 | Val Loss: 0.3522 | Val Acc: 90.99%\n",
      "\n",
      "🔁 Epoch 8/10\n"
     ]
    },
    {
     "name": "stderr",
     "output_type": "stream",
     "text": [
      "Training: 100%|██████████| 516/516 [01:00<00:00,  8.51it/s]\n",
      "Evaluating: 100%|██████████| 129/129 [00:14<00:00,  8.80it/s]\n"
     ]
    },
    {
     "name": "stdout",
     "output_type": "stream",
     "text": [
      "📊 Train Loss: 0.3779 | Val Loss: 0.3291 | Val Acc: 90.74%\n",
      "\n",
      "🔁 Epoch 9/10\n"
     ]
    },
    {
     "name": "stderr",
     "output_type": "stream",
     "text": [
      "Training: 100%|██████████| 516/516 [01:02<00:00,  8.30it/s]\n",
      "Evaluating: 100%|██████████| 129/129 [00:14<00:00,  8.76it/s]\n"
     ]
    },
    {
     "name": "stdout",
     "output_type": "stream",
     "text": [
      "📊 Train Loss: 0.3541 | Val Loss: 0.3119 | Val Acc: 91.96%\n",
      "\n",
      "🔁 Epoch 10/10\n"
     ]
    },
    {
     "name": "stderr",
     "output_type": "stream",
     "text": [
      "Training: 100%|██████████| 516/516 [01:00<00:00,  8.50it/s]\n",
      "Evaluating: 100%|██████████| 129/129 [00:14<00:00,  8.82it/s]"
     ]
    },
    {
     "name": "stdout",
     "output_type": "stream",
     "text": [
      "📊 Train Loss: 0.3342 | Val Loss: 0.2988 | Val Acc: 91.54%\n"
     ]
    },
    {
     "name": "stderr",
     "output_type": "stream",
     "text": [
      "\n"
     ]
    }
   ],
   "source": [
    "loss_fn = nn.CrossEntropyLoss()\n",
    "optimizer = torch.optim.Adam(model.fc.parameters(), lr=LEARNING_RATE)\n",
    "\n",
    "for epoch in range(NUM_EPOCHS):\n",
    "    print(f\"\\n🔁 Epoch {epoch+1}/{NUM_EPOCHS}\")\n",
    "    train_loss = train_one_epoch(model, train_loader, loss_fn, optimizer, device)\n",
    "    val_loss, val_acc = eval_model(model, val_loader, loss_fn, device)\n",
    "\n",
    "    print(f\"📊 Train Loss: {train_loss:.4f} | Val Loss: {val_loss:.4f} | Val Acc: {val_acc:.2%}\")\n"
   ]
  },
  {
   "cell_type": "code",
   "execution_count": 12,
   "metadata": {
    "colab": {
     "base_uri": "https://localhost:8080/"
    },
    "executionInfo": {
     "elapsed": 280,
     "status": "ok",
     "timestamp": 1750609504339,
     "user": {
      "displayName": "Shivendra Devadhe",
      "userId": "17542011610081090060"
     },
     "user_tz": -330
    },
    "id": "C8ejRG7aYfMQ",
    "outputId": "cd96ff56-557f-4c36-a6c0-7336c4dc035f"
   },
   "outputs": [
    {
     "name": "stdout",
     "output_type": "stream",
     "text": [
      "✅ Model saved at: /content/drive/MyDrive/ML/resnet50_plant_disease.pth\n"
     ]
    }
   ],
   "source": [
    "save_model(model, MODEL_DIR, MODEL_NAME)"
   ]
  }
 ],
 "metadata": {
  "accelerator": "GPU",
  "colab": {
   "authorship_tag": "ABX9TyOUR4zpwnLL/JbRs4CHSzks",
   "gpuType": "T4",
   "mount_file_id": "1rdTBI7uoT5uDFYJmRw6FkMreAkWG3tvR",
   "provenance": []
  },
  "kernelspec": {
   "display_name": "Python 3",
   "name": "python3"
  },
  "language_info": {
   "name": "python"
  }
 },
 "nbformat": 4,
 "nbformat_minor": 0
}
